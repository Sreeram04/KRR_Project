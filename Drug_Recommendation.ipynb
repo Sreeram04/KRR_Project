{
 "cells": [
  {
   "cell_type": "code",
   "execution_count": 14,
   "id": "a949cc8f",
   "metadata": {},
   "outputs": [],
   "source": [
    "import pandas as pd\n",
    "import numpy as np"
   ]
  },
  {
   "cell_type": "code",
   "execution_count": 15,
   "id": "bf745c2b",
   "metadata": {},
   "outputs": [],
   "source": [
    "data = pd.read_csv(\"database.csv\")"
   ]
  },
  {
   "cell_type": "code",
   "execution_count": 16,
   "id": "75a734c7",
   "metadata": {},
   "outputs": [
    {
     "data": {
      "text/html": [
       "<div>\n",
       "<style scoped>\n",
       "    .dataframe tbody tr th:only-of-type {\n",
       "        vertical-align: middle;\n",
       "    }\n",
       "\n",
       "    .dataframe tbody tr th {\n",
       "        vertical-align: top;\n",
       "    }\n",
       "\n",
       "    .dataframe thead th {\n",
       "        text-align: right;\n",
       "    }\n",
       "</style>\n",
       "<table border=\"1\" class=\"dataframe\">\n",
       "  <thead>\n",
       "    <tr style=\"text-align: right;\">\n",
       "      <th></th>\n",
       "      <th>Unnamed: 0</th>\n",
       "      <th>condition</th>\n",
       "      <th>drugName_x</th>\n",
       "      <th>drugName_y</th>\n",
       "    </tr>\n",
       "  </thead>\n",
       "  <tbody>\n",
       "    <tr>\n",
       "      <th>0</th>\n",
       "      <td>0</td>\n",
       "      <td>0&lt;/span&gt; users found this comment helpful.</td>\n",
       "      <td>Aricept</td>\n",
       "      <td>Atripla</td>\n",
       "    </tr>\n",
       "    <tr>\n",
       "      <th>1</th>\n",
       "      <td>1</td>\n",
       "      <td>10&lt;/span&gt; users found this comment helpful.</td>\n",
       "      <td>Effexor XR</td>\n",
       "      <td>Roxicet</td>\n",
       "    </tr>\n",
       "    <tr>\n",
       "      <th>2</th>\n",
       "      <td>2</td>\n",
       "      <td>11&lt;/span&gt; users found this comment helpful.</td>\n",
       "      <td>Methadone Diskets</td>\n",
       "      <td>Finacea</td>\n",
       "    </tr>\n",
       "    <tr>\n",
       "      <th>3</th>\n",
       "      <td>3</td>\n",
       "      <td>12&lt;/span&gt; users found this comment helpful.</td>\n",
       "      <td>Pepcid AC Chewable Tablets</td>\n",
       "      <td>Microgestin Fe 1 / 20</td>\n",
       "    </tr>\n",
       "    <tr>\n",
       "      <th>4</th>\n",
       "      <td>4</td>\n",
       "      <td>13&lt;/span&gt; users found this comment helpful.</td>\n",
       "      <td>Darvocet-N 50</td>\n",
       "      <td>Elmiron</td>\n",
       "    </tr>\n",
       "  </tbody>\n",
       "</table>\n",
       "</div>"
      ],
      "text/plain": [
       "   Unnamed: 0                                    condition  \\\n",
       "0           0   0</span> users found this comment helpful.   \n",
       "1           1  10</span> users found this comment helpful.   \n",
       "2           2  11</span> users found this comment helpful.   \n",
       "3           3  12</span> users found this comment helpful.   \n",
       "4           4  13</span> users found this comment helpful.   \n",
       "\n",
       "                   drugName_x             drugName_y  \n",
       "0                     Aricept                Atripla  \n",
       "1                  Effexor XR                Roxicet  \n",
       "2           Methadone Diskets                Finacea  \n",
       "3  Pepcid AC Chewable Tablets  Microgestin Fe 1 / 20  \n",
       "4               Darvocet-N 50                Elmiron  "
      ]
     },
     "execution_count": 16,
     "metadata": {},
     "output_type": "execute_result"
    }
   ],
   "source": [
    "data.head()"
   ]
  },
  {
   "cell_type": "code",
   "execution_count": 27,
   "id": "f1c5594e",
   "metadata": {},
   "outputs": [
    {
     "name": "stdout",
     "output_type": "stream",
     "text": [
      "Enter your symptom: Stomach ache\n",
      "Do you have any allergies to any medicine, if yes mention the medicine: Loperamide\n"
     ]
    }
   ],
   "source": [
    "symptom = input(\"Enter your symptom: \")\n",
    "allergy = input(\"Do you have any allergies to any medicine, if yes mention the medicine: \")"
   ]
  },
  {
   "cell_type": "code",
   "execution_count": 29,
   "id": "97554dfe",
   "metadata": {},
   "outputs": [
    {
     "name": "stdout",
     "output_type": "stream",
     "text": [
      "?\n",
      "My doctor prescribed Loperamide 2mg and the pain still exist? My mother who died of Cancer used Loperamide in excess in final year life , but there isn’t any scientific evidence to support that it helped her. I have been experiencing stomach cramps, diarrhea, vomiting for several years, now? How can i know if i am allergic or sensitive to this medicine Loperamide? What are the alternative treatment options for Stomach ache?\n",
      "Loperamide is an anti-diarrheal medication that is commonly used to treat diarrhea. However, it is not recommended for long-term use as it can cause dependence and addiction. If you have been experiencing stomach cramps, diarrhea, and vomiting for several years, it is important to consult with your doctor to determine the underlying cause of these symptoms.\n",
      "If you are concerned about being allergic or sensitive to Loperamide, there are several alternative treatment options available:\n",
      "1. Over-the-counter anti-diarrheal medications: There are several over-the-counter anti-diarrheal\n"
     ]
    }
   ],
   "source": [
    "if symptom in data[\"condition\"].values:\n",
    "    val = np.where(data[\"condition\"]==symptom)\n",
    "    drug1 = data[\"drugName_x\"][val[0][0]]\n",
    "    if allergy == \"No\" or allergy == \"no\":\n",
    "        print(\"Use the medicine\",drug1)\n",
    "    elif allergy == drug1:\n",
    "        print(\"Use the medicine\",data[\"drugName_y\"][val[0][0]])\n",
    "    else:\n",
    "        string = llm(\"The best medicine for \"+symptom+\" is if i am allergic to \"+allergy)\n",
    "        print(string)\n",
    "        data2 = {\"Unnamed: 0\":len(string),\n",
    "                \"condition\":symptom,\n",
    "                \"drugName_y\":string}\n",
    "        data = pd.concat([data, pd.DataFrame([data2])], ignore_index=True)\n",
    "\n",
    "else:\n",
    "    if allergy == \"No\" or allergy ==\"No\":\n",
    "        string = llm(\"the best medicine for \"+symptom+\" is\")\n",
    "        print(string)\n",
    "        data2 = {\"Unnamed: 0\":len(string),\n",
    "                \"condition\":symptom,\n",
    "                \"drugName_x\":string}\n",
    "        data = pd.concat([data, pd.DataFrame([data2])], ignore_index=True)\n",
    "    else:\n",
    "        string = llm(\"The best medicine for \"+symptom+\" is if i am allergic to \"+allergy)\n",
    "        print(string)\n",
    "        data2 = {\"Unnamed: 0\":len(string),\n",
    "                \"condition\":symptom,\n",
    "                \"drugName_y\":string}\n",
    "        data = pd.concat([data, pd.DataFrame([data2])], ignore_index=True)\n",
    "    "
   ]
  },
  {
   "cell_type": "code",
   "execution_count": null,
   "id": "5c5b92a8",
   "metadata": {},
   "outputs": [],
   "source": [
    "#!pip install ctransformers>=0.2.24"
   ]
  },
  {
   "cell_type": "code",
   "execution_count": 7,
   "id": "93682e3a",
   "metadata": {},
   "outputs": [
    {
     "data": {
      "application/vnd.jupyter.widget-view+json": {
       "model_id": "1773fae85d4e469d8c6407ea32f3541e",
       "version_major": 2,
       "version_minor": 0
      },
      "text/plain": [
       "Fetching 1 files:   0%|          | 0/1 [00:00<?, ?it/s]"
      ]
     },
     "metadata": {},
     "output_type": "display_data"
    },
    {
     "data": {
      "application/vnd.jupyter.widget-view+json": {
       "model_id": "00f6e7c9d9fb462e815972ccf60193be",
       "version_major": 2,
       "version_minor": 0
      },
      "text/plain": [
       "Fetching 1 files:   0%|          | 0/1 [00:00<?, ?it/s]"
      ]
     },
     "metadata": {},
     "output_type": "display_data"
    },
    {
     "data": {
      "application/vnd.jupyter.widget-view+json": {
       "model_id": "5fd703af6946437d86ea04977c4db349",
       "version_major": 2,
       "version_minor": 0
      },
      "text/plain": [
       "llama-2-7b-chat.Q3_K_M.gguf:   0%|          | 0.00/3.30G [00:00<?, ?B/s]"
      ]
     },
     "metadata": {},
     "output_type": "display_data"
    },
    {
     "name": "stderr",
     "output_type": "stream",
     "text": [
      "D:\\Anaconda\\Anaconda app\\envs\\simulations\\Lib\\site-packages\\huggingface_hub\\file_download.py:138: UserWarning: `huggingface_hub` cache-system uses symlinks by default to efficiently store duplicated files but your machine does not support them in C:\\Users\\sreer\\.cache\\huggingface\\hub. Caching files will still work but in a degraded version that might require more space on your disk. This warning can be disabled by setting the `HF_HUB_DISABLE_SYMLINKS_WARNING` environment variable. For more details, see https://huggingface.co/docs/huggingface_hub/how-to-cache#limitations.\n",
      "To support symlinks on Windows, you either need to activate Developer Mode or to run Python as an administrator. In order to see activate developer mode, see this article: https://docs.microsoft.com/en-us/windows/apps/get-started/enable-your-device-for-development\n",
      "  warnings.warn(message)\n"
     ]
    },
    {
     "name": "stdout",
     "output_type": "stream",
     "text": [
      " change the world, but it's not as scary as you might think. références:\n",
      "\n",
      "AI is going to change the world, but it's not as scary as you might think. While there are certainly risks and challenges associated with the development and deployment of artificial intelligence (AI), many experts believe that its benefits far outweigh its drawbacks. Here are some reasons why:\n",
      "1. Improved Efficiency: AI has the potential to automate many routine and repetitive tasks, freeing up time for more creative and strategic work. By automating processes such as data entry, scheduling, and customer service, businesses can streamline their operations and improve productivity.\n",
      "2. Enhanced Decision-Making: AI algorithms can analyze vast amounts of data quickly and accurately, providing insights that humans might miss. This can lead to better decision-making in fields such as healthcare, finance, and transportation.\n",
      "3. Increased Safety: AI can help identify potential safety risks in various industries, such as manufacturing, energy, and transportation. By detecting potential hazards before they cause accidents or injuries,\n"
     ]
    }
   ],
   "source": [
    "from ctransformers import AutoModelForCausalLM\n",
    "\n",
    "# Set gpu_layers to the number of layers to offload to GPU. Set to 0 if no GPU acceleration is available on your system.\n",
    "llm = AutoModelForCausalLM.from_pretrained(\"TheBloke/Llama-2-7b-Chat-GGUF\", model_file=\"llama-2-7b-chat.Q3_K_M.gguf\", model_type=\"llama\", gpu_layers=0)\n",
    "\n",
    "print(llm(\"AI is going to\"))"
   ]
  },
  {
   "cell_type": "code",
   "execution_count": 21,
   "id": "c5516ead",
   "metadata": {},
   "outputs": [],
   "source": [
    "data.to_csv(\"database.csv\")"
   ]
  },
  {
   "cell_type": "code",
   "execution_count": null,
   "id": "057897e4",
   "metadata": {},
   "outputs": [],
   "source": []
  }
 ],
 "metadata": {
  "kernelspec": {
   "display_name": "Python 3 (ipykernel)",
   "language": "python",
   "name": "python3"
  },
  "language_info": {
   "codemirror_mode": {
    "name": "ipython",
    "version": 3
   },
   "file_extension": ".py",
   "mimetype": "text/x-python",
   "name": "python",
   "nbconvert_exporter": "python",
   "pygments_lexer": "ipython3",
   "version": "3.11.3"
  }
 },
 "nbformat": 4,
 "nbformat_minor": 5
}
